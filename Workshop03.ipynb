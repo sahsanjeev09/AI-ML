{
  "cells": [
    {
      "cell_type": "markdown",
      "metadata": {
        "id": "IY-_Zy_b71lD"
      },
      "source": [
        "# Implementation of MCP Neuron for AND and OR Function."
      ]
    },
    {
      "cell_type": "code",
      "execution_count": null,
      "metadata": {
        "id": "Fu-YDOe_8GJi"
      },
      "outputs": [],
      "source": [
        "def MCP_Neurons_AND(X1, X2, T):\n",
        "    \"\"\"\n",
        "    This function implements basic AND operations with MCP Neuron for two inputs.\n",
        "\n",
        "    Arguments:\n",
        "    X1 (1D array): An array of binary values (0 or 1).\n",
        "    X2 (1D array): An array of binary values (0 or 1).\n",
        "    T (int): Threshold value for the MCP Neuron.\n",
        "\n",
        "    Returns:\n",
        "    state_neuron (1D list): A list of neuron states (1 or 0) for the given inputs.\n",
        "    \"\"\"\n",
        "    # Check if the input arrays have the same length\n",
        "    assert len(X1) == len(X2), \"Input arrays must have the same length.\"\n",
        "\n",
        "    # Initialize an empty list to store the neuron states\n",
        "    state_neuron = []\n",
        "\n",
        "    # Iterate through the input arrays\n",
        "    for i in range(len(X1)):\n",
        "        # Calculate the weighted sum of inputs (X1[i] + X2[i])\n",
        "        weighted_sum = X1[i] + X2[i]\n",
        "\n",
        "        # Check if the weighted sum is greater than or equal to the threshold\n",
        "        if weighted_sum >= T:\n",
        "            state_neuron.append(1)  # Neuron fires (output = 1)\n",
        "        else:\n",
        "            state_neuron.append(0)  # Neuron does not fire (output = 0)\n",
        "\n",
        "    return state_neuron"
      ]
    },
    {
      "cell_type": "code",
      "execution_count": null,
      "metadata": {
        "colab": {
          "base_uri": "https://localhost:8080/"
        },
        "id": "e2-lKfat8ocN",
        "outputId": "92458506-9871-43c5-c11a-0ad067043a28"
      },
      "outputs": [
        {
          "name": "stdout",
          "output_type": "stream",
          "text": [
            "Output of AND gate for inputs [0, 0, 1, 1] and [0, 1, 0, 1] with threshold 2: [0, 0, 0, 1]\n"
          ]
        }
      ],
      "source": [
        "# Example usage for MCP_Neurons_AND function\n",
        "X1 = [0, 0, 1, 1]\n",
        "X2 = [0, 1, 0, 1]\n",
        "T = 2  # Threshold value\n",
        "\n",
        "# Call the MCP_Neurons_AND function\n",
        "result = MCP_Neurons_AND(X1, X2, T)\n",
        "\n",
        "# Print the result\n",
        "print(f\"Output of AND gate for inputs {X1} and {X2} with threshold {T}: {result}\")\n"
      ]
    },
    {
      "cell_type": "code",
      "execution_count": null,
      "metadata": {
        "id": "7xaMXlLT9FHC"
      },
      "outputs": [],
      "source": [
        "def MCP_Neurons_OR(X1, X2, T):\n",
        "    \"\"\"\n",
        "    This function implements basic OR operations with MCP Neuron for two inputs.\n",
        "    Arguments:\n",
        "    Inputs:\n",
        "    X1 (1D array): An array of binary values.\n",
        "    X2 (1D array): An array of binary values.\n",
        "    Output:\n",
        "    state_neuron (1D list): The state of the neuron (1 or 0) for the particular inputs.\n",
        "    \"\"\"\n",
        "    assert len(X1) == len(X2), \"Both input lists must have the same length.\"\n",
        "\n",
        "    state_neuron = []  # List to store the output states of the neuron\n",
        "\n",
        "    for x1, x2 in zip(X1, X2):\n",
        "        sum_inputs = x1 + x2  # Summing the inputs\n",
        "        if sum_inputs >= T:    # Checking against the threshold\n",
        "            state_neuron.append(1)\n",
        "        else:\n",
        "            state_neuron.append(0)\n",
        "\n",
        "    return state_neuron"
      ]
    },
    {
      "cell_type": "code",
      "execution_count": null,
      "metadata": {
        "colab": {
          "base_uri": "https://localhost:8080/"
        },
        "id": "6H-YOy268_Jo",
        "outputId": "d8c63ee0-0753-41ab-d1e1-99a1b0589b00"
      },
      "outputs": [
        {
          "name": "stdout",
          "output_type": "stream",
          "text": [
            "Output of OR gate for inputs [0, 0, 1, 1] and [0, 1, 0, 1] with threshold 1: [0, 1, 1, 1]\n"
          ]
        }
      ],
      "source": [
        "# Example usage for MCP_Neurons_OR function\n",
        "X1 = [0, 0, 1, 1]\n",
        "X2 = [0, 1, 0, 1]\n",
        "T = 1  # Threshold value for OR gate\n",
        "\n",
        "# Call the MCP_Neurons_OR function\n",
        "result_or = MCP_Neurons_OR(X1, X2, T)\n",
        "\n",
        "# Print the result\n",
        "print(f\"Output of OR gate for inputs {X1} and {X2} with threshold {T}: {result_or}\")\n"
      ]
    },
    {
      "cell_type": "markdown",
      "metadata": {
        "id": "Apa9bfLIFJHe"
      },
      "source": [
        "# Implementation for 0 Vs. 1 Classification."
      ]
    },
    {
      "cell_type": "markdown",
      "metadata": {
        "id": "iom83mGLFP_1"
      },
      "source": [
        "## Step 1: Load the Dataset"
      ]
    },
    {
      "cell_type": "code",
      "execution_count": null,
      "metadata": {
        "colab": {
          "base_uri": "https://localhost:8080/"
        },
        "id": "7rkW58ct9IYq",
        "outputId": "d9146cc0-743a-43c1-d33f-c2a64b764f68"
      },
      "outputs": [
        {
          "name": "stdout",
          "output_type": "stream",
          "text": [
            "Feature matrix shape: (12665, 784)\n",
            "Label vector shape: (12665,)\n"
          ]
        }
      ],
      "source": [
        "import pandas as pd\n",
        "import numpy as np\n",
        "import matplotlib.pyplot as plt\n",
        "\n",
        "\n",
        "# Load the dataset\n",
        "df_0_1 = pd.read_csv(\"mnist_0_and_1.csv\")  # Add the correct file path if necessary\n",
        "\n",
        "# Extract features and labels\n",
        "X = df_0_1.drop(columns=[\"label\"]).values  # 784 pixels\n",
        "y = df_0_1[\"label\"].values  # Labels (0 or 1)\n",
        "\n",
        "# Check the shape of the features and labels\n",
        "print(\"Feature matrix shape:\", X.shape)\n",
        "print(\"Label vector shape:\", y.shape)\n"
      ]
    },
    {
      "cell_type": "markdown",
      "metadata": {
        "id": "dj7crxNXaLNU"
      },
      "source": [
        "**Question - 1: What does the shape of X represent?**"
      ]
    },
    {
      "cell_type": "markdown",
      "metadata": {
        "id": "pAmzik9gaLNV"
      },
      "source": [
        "-> It Represents the feature matrix"
      ]
    },
    {
      "cell_type": "markdown",
      "metadata": {
        "id": "uqUCrfAAaLNW"
      },
      "source": [
        "**Question - 2: What does the shape of X represent?**"
      ]
    },
    {
      "cell_type": "markdown",
      "metadata": {
        "id": "q2dPuBybaLNX"
      },
      "source": [
        "-> It Represents the label vector"
      ]
    },
    {
      "cell_type": "markdown",
      "metadata": {
        "id": "jlq0EY2jHheD"
      },
      "source": [
        "### Viewing the Dataset."
      ]
    },
    {
      "cell_type": "code",
      "execution_count": null,
      "metadata": {
        "colab": {
          "base_uri": "https://localhost:8080/",
          "height": 451
        },
        "id": "XKY2qjhCHAZ7",
        "outputId": "af8e79ee-87e6-4492-915a-1b33a2fcb1ec"
      },
      "outputs": [
        {
          "data": {
            "image/png": "[encoded data removed]",
            "text/plain": [
              "<Figure size 1000x500 with 10 Axes>"
            ]
          },
          "metadata": {},
          "output_type": "display_data"
        }
      ],
      "source": [
        "# Extract images belonging to label 0 and label 1\n",
        "images_0 = X[y == 0]  # Select all images corresponding to label 0\n",
        "images_1 = X[y == 1]  # Select all images corresponding to label 1\n",
        "\n",
        "# Create a figure with a 2-row, 5-column layout for visualization\n",
        "fig, axes = plt.subplots(2, 5, figsize=(10, 5))\n",
        "\n",
        "# Ensure there are at least 5 images for each label before plotting\n",
        "if len(images_0) < 5 or len(images_1) < 5:\n",
        "    print(\"Error: Not enough images in images_0 or images_1 to display 5 images.\")\n",
        "else:\n",
        "    for i in range(5):\n",
        "        # Display the first 5 images of label 0 in the first row\n",
        "        axes[0, i].imshow(images_0[i].reshape(28, 28), cmap=\"gray\")\n",
        "        axes[0, i].set_title(\"Label: 0\")\n",
        "        axes[0, i].axis(\"off\")  # Hide axes for better visualization\n",
        "\n",
        "        # Display the first 5 images of label 1 in the second row\n",
        "        axes[1, i].imshow(images_1[i].reshape(28, 28), cmap=\"gray\")\n",
        "        axes[1, i].set_title(\"Label: 1\")\n",
        "        axes[1, i].axis(\"off\")  # Hide axes for better visualization\n",
        "\n",
        "    # Add a title to the entire figure\n",
        "    plt.suptitle(\"First 5 Images of Labels 0 and 1 from MNIST Subset\")\n",
        "    plt.show()\n"
      ]
    },
    {
      "cell_type": "markdown",
      "metadata": {
        "id": "qyM34tbHIqGi"
      },
      "source": [
        "## Step - 2 - Initializing the Weights:"
      ]
    },
    {
      "cell_type": "code",
      "execution_count": null,
      "metadata": {
        "id": "SMsXaZ38HfBI"
      },
      "outputs": [],
      "source": [
        "# Initialize weights and bias\n",
        "weights = np.zeros(X.shape[1])  # 784 weights (one for each pixel)\n",
        "bias = 0\n",
        "learning_rate = 0.1\n",
        "epochs = 100"
      ]
    },
    {
      "cell_type": "markdown",
      "metadata": {
        "id": "EvraDxaeRVeo"
      },
      "source": [
        "## Step - 3 - Make a Decision function:"
      ]
    },
    {
      "cell_type": "code",
      "execution_count": null,
      "metadata": {
        "id": "6uVj75txLWQi"
      },
      "outputs": [],
      "source": [
        "import numpy as np\n",
        "\n",
        "def decision_function(X, weights, bias):\n",
        "    \"\"\"\n",
        "    Compute the predicted labels for the input data.\n",
        "\n",
        "    Parameters:\n",
        "    - X: Features (input data) as a numpy array of shape (n_samples, n_features)\n",
        "    - weights: Updated weights after training\n",
        "    - bias: Updated bias after training\n",
        "\n",
        "    Returns:\n",
        "    - y_pred_all: The predicted labels for the input data\n",
        "    \"\"\"\n",
        "    predictions = np.dot(X, weights) + bias\n",
        "    y_pred_all = np.where(predictions >= 0, 1, 0)  # Step function activation\n",
        "    return y_pred_all"
      ]
    },
    {
      "cell_type": "markdown",
      "metadata": {
        "id": "AVZNGyRdI4I4"
      },
      "source": [
        "## Step - 3 - Implement the Perceptron Learning Algorithm"
      ]
    },
    {
      "cell_type": "code",
      "execution_count": null,
      "metadata": {
        "id": "Dg1ocrycJWpA"
      },
      "outputs": [],
      "source": [
        "import numpy as np\n",
        "\n",
        "def train_perceptron(X, y, weights, bias, learning_rate=0.1, epochs=100):\n",
        "    \"\"\"\n",
        "    Train the perceptron using the Perceptron Learning Algorithm.\n",
        "\n",
        "    Parameters:\n",
        "    - X: Features (input data) as a numpy array of shape (n_samples, n_features)\n",
        "    - y: Labels (true output) as a numpy array of shape (n_samples,)\n",
        "    - weights: Initial weights as a numpy array of shape (n_features,)\n",
        "    - bias: Initial bias value (scalar)\n",
        "    - learning_rate: Learning rate for weight updates (default is 0.1)\n",
        "    - epochs: Number of iterations to train the model (default is 100)\n",
        "\n",
        "    Returns:\n",
        "    - weights: Updated weights after training\n",
        "    - bias: Updated bias after training\n",
        "    - accuracy: Total correct prediction.\n",
        "    \"\"\"\n",
        "    n_samples, n_features = X.shape\n",
        "\n",
        "    for epoch in range(epochs):\n",
        "        for i in range(n_samples):\n",
        "            # Select the i-th sample\n",
        "            x_i = X[i]\n",
        "            y_i = y[i]\n",
        "\n",
        "            # Compute the activation (linear combination)\n",
        "            activation = np.dot(x_i, weights) + bias\n",
        "\n",
        "            # Apply the step function to get the prediction (0 or 1)\n",
        "            prediction = 1 if activation >= 0 else 0\n",
        "\n",
        "            # Update weights and bias if prediction is incorrect\n",
        "            if prediction != y_i:\n",
        "                error = y_i - prediction\n",
        "                weights += learning_rate * error * x_i\n",
        "                bias += learning_rate * error\n",
        "\n",
        "    # Calculate the accuracy after training\n",
        "    activations = np.dot(X, weights) + bias\n",
        "    predictions = (activations >= 0).astype(int)\n",
        "    accuracy = np.mean(predictions == y)\n",
        "\n",
        "    return weights, bias, accuracy"
      ]
    },
    {
      "cell_type": "markdown",
      "metadata": {
        "id": "Va6AGI6iMAG9"
      },
      "source": [
        "## Training the Perceptron"
      ]
    },
    {
      "cell_type": "code",
      "execution_count": null,
      "metadata": {
        "colab": {
          "base_uri": "https://localhost:8080/"
        },
        "id": "cn8XBYuZLswI",
        "outputId": "a55527d8-67ad-4968-9a5b-59ac8af6d0ac"
      },
      "outputs": [
        {
          "name": "stdout",
          "output_type": "stream",
          "text": [
            "The Final Accuracy is:  1.0\n"
          ]
        }
      ],
      "source": [
        "# After training the model with the perceptron_learning_algorithm\n",
        "weights, bias, accuracy = train_perceptron(X, y, weights, bias)\n",
        "\n",
        "# Evaluate the model using the new function\n",
        "print(\"The Final Accuracy is: \", accuracy)"
      ]
    },
    {
      "cell_type": "markdown",
      "metadata": {
        "id": "-SLq1jbSMKPm"
      },
      "source": [
        "## Step 5: Visualize Misclassified Images"
      ]
    },
    {
      "cell_type": "code",
      "execution_count": null,
      "metadata": {
        "colab": {
          "base_uri": "https://localhost:8080/"
        },
        "id": "KAMz1RPGMN_A",
        "outputId": "c7bdc866-42a9-4e5a-aa73-68132b3ff133"
      },
      "outputs": [
        {
          "name": "stdout",
          "output_type": "stream",
          "text": [
            "Final Accuracy: 1.0000\n",
            "All images were correctly classified!\n"
          ]
        }
      ],
      "source": [
        "# Compute predictions for all data points using the weight vector and bias\n",
        "predictions = np.dot(X, weights) + bias\n",
        "\n",
        "# Apply thresholding to convert predictions into binary class labels (0 or 1)\n",
        "y_pred = np.where(predictions >= 0, 1, 0)\n",
        "\n",
        "# Compute the overall classification accuracy\n",
        "final_accuracy = np.mean(y_pred == y)\n",
        "print(f\"Final Accuracy: {final_accuracy:.4f}\")\n",
        "\n",
        "# Identify misclassified samples\n",
        "misclassified_idx = np.where(y_pred != y)[0]\n",
        "\n",
        "# If there are misclassified samples, visualize up to 10 of them\n",
        "if len(misclassified_idx) > 0:\n",
        "    fig, axes = plt.subplots(2, 5, figsize=(10, 5))\n",
        "    # Display 10 misclassified images\n",
        "    for ax, idx in zip(axes.flat, misclassified_idx[:10]):\n",
        "        ax.imshow(X[idx].reshape(28, 28), cmap=\"gray\")\n",
        "        ax.set_title(f\"Pred: {y_pred[idx]}, True: {y[idx]}\")\n",
        "        ax.axis(\"off\")\n",
        "    plt.suptitle(\"Misclassified Images\")\n",
        "    plt.show()\n",
        "else:\n",
        "    print(\"All images were correctly classified!\")\n"
      ]
    },
    {
      "cell_type": "markdown",
      "metadata": {
        "id": "DC8xJGaMaLNf"
      },
      "source": [
        "## Task 3: Perceptron Algorithm for 3 vs 5 Classification."
      ]
    },
    {
      "cell_type": "code",
      "execution_count": null,
      "metadata": {
        "id": "MPzpZPrUaLNg",
        "outputId": "d0f7ab5a-c705-4bfe-ff28-ed51bb926c65"
      },
      "outputs": [
        {
          "name": "stdout",
          "output_type": "stream",
          "text": [
            "Feature matrix shape: (2741, 784)\n",
            "Label vector shape: (2741,)\n"
          ]
        }
      ],
      "source": [
        "# Load the dataset\n",
        "df2 = pd.read_csv(\"mnist_3_and_5.csv\")\n",
        "\n",
        "# Extract features and labels\n",
        "X = df2.drop(columns=[\"label\"]).values  # 784 pixels\n",
        "y = df2[\"label\"].values  # Labels (0 or 1)\n",
        "\n",
        "# Check the shape of the features and labels\n",
        "print(\"Feature matrix shape:\", X.shape)\n",
        "print(\"Label vector shape:\", y.shape)"
      ]
    },
    {
      "cell_type": "code",
      "execution_count": null,
      "metadata": {
        "id": "qv9usFw0aLNh",
        "outputId": "086d1635-47c8-4594-8a80-8ced37f48a4d"
      },
      "outputs": [
        {
          "name": "stdout",
          "output_type": "stream",
          "text": [
            "Error: Not enough images to plot.\n"
          ]
        },
        {
          "data": {
            "image/png": "[encoded data removed]",
            "text/plain": [
              "<Figure size 1000x500 with 10 Axes>"
            ]
          },
          "metadata": {},
          "output_type": "display_data"
        }
      ],
      "source": [
        "# Separate images for label 3 (mapped to 0) and 5 (mapped to 1)\n",
        "images_3 = X[y == 0]  # Images of digit 3\n",
        "images_5 = X[y == 1]  # Images of digit 5\n",
        "\n",
        "# Plot the images\n",
        "fig, axes = plt.subplots(2, 5, figsize=(10, 5))\n",
        "if len(images_3) < 5 or len(images_5) < 5:\n",
        "    print(\"Error: Not enough images to plot.\")\n",
        "else:\n",
        "    for i in range(5):\n",
        "        # Plot digit 3\n",
        "        axes[0, i].imshow(images_3[i].reshape(28, 28), cmap=\"gray\")\n",
        "        axes[0, i].set_title(\"Label: 3\")\n",
        "        axes[0, i].axis(\"off\")\n",
        "        # Plot digit 5\n",
        "        axes[1, i].imshow(images_5[i].reshape(28, 28), cmap=\"gray\")\n",
        "        axes[1, i].set_title(\"Label: 5\")\n",
        "        axes[1, i].axis(\"off\")\n",
        "    plt.suptitle(\"First 5 Images of 3 and 5 from MNIST Subset\")\n",
        "    plt.show()\n"
      ]
    },
    {
      "cell_type": "code",
      "execution_count": null,
      "metadata": {
        "id": "kaJfMVfKaLNi"
      },
      "outputs": [],
      "source": [
        "# Initialize weights and bias\n",
        "weights = np.zeros(X.shape[1])  # 784 weights (one for each pixel)\n",
        "bias = 0\n",
        "learning_rate = 0.1\n",
        "epochs = 100"
      ]
    },
    {
      "cell_type": "code",
      "execution_count": null,
      "metadata": {
        "id": "rMsS-VD2aLNj"
      },
      "outputs": [],
      "source": [
        "def decision_function(X, weights, bias):\n",
        "    \"\"\"Compute the predicted labels for the input data.\"\"\"\n",
        "    predictions = np.dot(X, weights) + bias\n",
        "    return np.where(predictions >= 0, 1, 0)  # Step function: 1 if >= 0, else 0"
      ]
    },
    {
      "cell_type": "code",
      "execution_count": null,
      "metadata": {
        "id": "E3cndH2faLNj"
      },
      "outputs": [],
      "source": [
        "def train_perceptron(X, y, weights, bias, learning_rate=0.1, epochs=100):\n",
        "    \"\"\"Train the perceptron using the Perceptron Learning Algorithm.\"\"\"\n",
        "    n_samples = X.shape[0]\n",
        "    for epoch in range(epochs):\n",
        "        correct_predictions = 0\n",
        "        for i in range(n_samples):\n",
        "            # Compute the weighted sum\n",
        "            z = np.dot(X[i], weights) + bias\n",
        "            # Apply step function\n",
        "            y_pred = 1 if z >= 0 else 0\n",
        "            # Update weights and bias if prediction is wrong\n",
        "            if y_pred != y[i]:\n",
        "                update = learning_rate * (y[i] - y_pred)\n",
        "                weights += update * X[i]\n",
        "                bias += update\n",
        "            else:\n",
        "                correct_predictions += 1\n",
        "        # Calculate accuracy for this epoch\n",
        "        accuracy = correct_predictions / n_samples\n",
        "        # Stop if all predictions are correct\n",
        "        if correct_predictions == n_samples:\n",
        "            print(f\"Converged at epoch {epoch + 1}\")\n",
        "            break\n",
        "    return weights, bias, accuracy"
      ]
    },
    {
      "cell_type": "code",
      "execution_count": null,
      "metadata": {
        "id": "xuV2QToXaLNk",
        "outputId": "2067c701-4d76-4c09-93f3-fb29d1c9bc2a"
      },
      "outputs": [
        {
          "name": "stdout",
          "output_type": "stream",
          "text": [
            "The Final Accuracy is: 0.0\n"
          ]
        }
      ],
      "source": [
        "# Train the perceptron\n",
        "weights, bias, accuracy = train_perceptron(X, y, weights, bias, learning_rate, epochs)\n",
        "print(\"The Final Accuracy is:\", accuracy)"
      ]
    },
    {
      "cell_type": "code",
      "execution_count": null,
      "metadata": {
        "id": "shCQYXUIaLNl",
        "outputId": "9d72ed55-6d7e-489a-871e-649d06ed10e5"
      },
      "outputs": [
        {
          "name": "stdout",
          "output_type": "stream",
          "text": [
            "Final Accuracy: 0.0000\n"
          ]
        },
        {
          "data": {
            "image/png": "[encoded data removed]",
            "text/plain": [
              "<Figure size 1000x500 with 10 Axes>"
            ]
          },
          "metadata": {},
          "output_type": "display_data"
        }
      ],
      "source": [
        "# Get predictions for all data points\n",
        "y_pred = decision_function(X, weights, bias)\n",
        "\n",
        "# Calculate final accuracy\n",
        "final_accuracy = np.mean(y_pred == y)\n",
        "print(f\"Final Accuracy: {final_accuracy:.4f}\")\n",
        "\n",
        "# Find misclassified images\n",
        "misclassified_idx = np.where(y_pred != y)[0]\n",
        "\n",
        "# Visualize misclassified images\n",
        "if len(misclassified_idx) > 0:\n",
        "    fig, axes = plt.subplots(2, 5, figsize=(10, 5))\n",
        "    for ax, idx in zip(axes.flat, misclassified_idx[:10]):  # Show up to 10 misclassified images\n",
        "        ax.imshow(X[idx].reshape(28, 28), cmap=\"gray\")\n",
        "        # Map predicted and true labels back to 3 and 5 for display\n",
        "        pred_label = 5 if y_pred[idx] == 1 else 3\n",
        "        true_label = 5 if y[idx] == 1 else 3\n",
        "        ax.set_title(f\"Pred: {pred_label}, True: {true_label}\")\n",
        "        ax.axis(\"off\")\n",
        "    plt.suptitle(\"Misclassified Images\")\n",
        "    plt.show()\n",
        "else:\n",
        "    print(\"All images were correctly classified!\")"
      ]
    },
    {
      "cell_type": "code",
      "execution_count": null,
      "metadata": {
        "id": "N5fe9t4FaLNm"
      },
      "outputs": [],
      "source": []
    }
  ],
  "metadata": {
    "colab": {
      "provenance": []
    },
    "kernelspec": {
      "display_name": "Python [conda env:base] *",
      "language": "python",
      "name": "conda-base-py"
    },
    "language_info": {
      "codemirror_mode": {
        "name": "ipython",
        "version": 3
      },
      "file_extension": ".py",
      "mimetype": "text/x-python",
      "name": "python",
      "nbconvert_exporter": "python",
      "pygments_lexer": "ipython3",
      "version": "3.12.7"
    }
  },
  "nbformat": 4,
  "nbformat_minor": 0
}