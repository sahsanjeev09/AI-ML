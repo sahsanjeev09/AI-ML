{
  "nbformat": 4,
  "nbformat_minor": 0,
  "metadata": {
    "colab": {
      "provenance": []
    },
    "kernelspec": {
      "name": "python3",
      "display_name": "Python 3"
    },
    "language_info": {
      "name": "python"
    }
  },
  "cells": [
    {
      "cell_type": "markdown",
      "source": [
        "10.1\tBasic Vector and Matrix Operation with Numpy.\n",
        "Problem - 1: Array Creation:\n",
        "Complete the following Tasks:\n",
        "1.\tInitialize an empty array with size 2X2.\n",
        "2.\tInitialize an all one array with size 4X2.\n",
        "3.\tReturn a new array of given shape and type, filled with fill  value.{Hint: np.full}\n",
        "4.\tReturn a new array of zeros with same shape and type as a given array.{Hint: np.zeros like}\n",
        "5.\tReturn a new array of ones with same shape and type as a given array.{Hint: np.ones like}\n",
        "6.\tFor an existing list new_list = [1,2,3,4] convert to an numpy array.{Hint: np.array()}"
      ],
      "metadata": {
        "id": "rbpV7Hsm-7XR"
      }
    },
    {
      "cell_type": "code",
      "source": [
        "import numpy as np\n",
        "empty_array = np.empty((2, 2))\n",
        "print(empty_array)"
      ],
      "metadata": {
        "colab": {
          "base_uri": "https://localhost:8080/"
        },
        "id": "SEXp-ZE8-9jt",
        "outputId": "52747e93-d25e-4835-a09b-e2f206acd60d"
      },
      "execution_count": null,
      "outputs": [
        {
          "output_type": "stream",
          "name": "stdout",
          "text": [
            "[[1.85917342e-316 0.00000000e+000]\n",
            " [1.58101007e-322 3.10794597e+048]]\n"
          ]
        }
      ]
    },
    {
      "cell_type": "code",
      "source": [
        "ones_array = np.ones((4, 2))\n",
        "print(ones_array)"
      ],
      "metadata": {
        "colab": {
          "base_uri": "https://localhost:8080/"
        },
        "id": "AzRQKi7__LOp",
        "outputId": "7f28c062-b2bf-45ec-e116-906d9bdf6eaf"
      },
      "execution_count": null,
      "outputs": [
        {
          "output_type": "stream",
          "name": "stdout",
          "text": [
            "[[1. 1.]\n",
            " [1. 1.]\n",
            " [1. 1.]\n",
            " [1. 1.]]\n"
          ]
        }
      ]
    },
    {
      "cell_type": "code",
      "source": [
        "filled_array = np.full((3, 3), 7)  # 3x3 matrix filled with 7\n",
        "print(filled_array)"
      ],
      "metadata": {
        "colab": {
          "base_uri": "https://localhost:8080/"
        },
        "id": "-1DY6h3g_LtS",
        "outputId": "7ce25396-3d07-499c-e6e3-c9d9470c3aa5"
      },
      "execution_count": null,
      "outputs": [
        {
          "output_type": "stream",
          "name": "stdout",
          "text": [
            "[[7 7 7]\n",
            " [7 7 7]\n",
            " [7 7 7]]\n"
          ]
        }
      ]
    },
    {
      "cell_type": "code",
      "source": [
        "example_array = np.array([[2, 3], [4, 5]])\n",
        "zeros_like_array = np.zeros_like(example_array)\n",
        "print(zeros_like_array)"
      ],
      "metadata": {
        "colab": {
          "base_uri": "https://localhost:8080/"
        },
        "id": "GjvizV7g_MJu",
        "outputId": "408f32f6-bda6-4f2f-ad6c-a35d0836a0f5"
      },
      "execution_count": null,
      "outputs": [
        {
          "output_type": "stream",
          "name": "stdout",
          "text": [
            "[[0 0]\n",
            " [0 0]]\n"
          ]
        }
      ]
    },
    {
      "cell_type": "code",
      "source": [
        "ones_like_array = np.ones_like(example_array)\n",
        "print(ones_like_array)"
      ],
      "metadata": {
        "colab": {
          "base_uri": "https://localhost:8080/"
        },
        "id": "lO9Ipcoi_n2U",
        "outputId": "1d7b96bf-0cb9-407c-95ad-1b95eaed9a3b"
      },
      "execution_count": null,
      "outputs": [
        {
          "output_type": "stream",
          "name": "stdout",
          "text": [
            "[[1 1]\n",
            " [1 1]]\n"
          ]
        }
      ]
    },
    {
      "cell_type": "code",
      "source": [
        "new_list = [1, 2, 3, 4]\n",
        "numpy_array = np.array(new_list)\n",
        "print(numpy_array)"
      ],
      "metadata": {
        "colab": {
          "base_uri": "https://localhost:8080/"
        },
        "id": "NYZfc0eY_rVz",
        "outputId": "37db6b44-dd83-4ff8-b4a9-f1e8eef6cb2e"
      },
      "execution_count": null,
      "outputs": [
        {
          "output_type": "stream",
          "name": "stdout",
          "text": [
            "[1 2 3 4]\n"
          ]
        }
      ]
    },
    {
      "cell_type": "markdown",
      "source": [
        "Problem - 2: Array Manipulation: Numerical Ranges and Array indexing:\n",
        "Complete the following tasks:\n",
        "1.\tCreate an array with values ranging from 10 to 49. {Hint:np.arrange()}.\n",
        "2.\tCreate a 3X3 matrix with values ranging from 0 to 8.\n",
        "{Hint:look for np.reshape()}\n",
        "3.\tCreate a 3X3 identity matrix.{Hint:np.eye()}\n",
        "4.\tCreate a random array of size 30 and find the mean of the array.\n",
        "{Hint:check for np.random.random() and array.mean() function}\n",
        "5.\tCreate a 10X10 array with random values and find the minimum and maximum values.\n",
        "6.\tCreate a zero array of size 10 and replace 5th element with 1.\n",
        "7.\tReverse an array arr = [1,2,0,0,4,0].\n",
        "8.\tCreate a 2d array with 1 on border and 0 inside.\n",
        "9.\tCreate a 8X8 matrix and fill it with a checkerboard pattern."
      ],
      "metadata": {
        "id": "hutsXzYf_u71"
      }
    },
    {
      "cell_type": "code",
      "source": [
        "import numpy as np\n",
        "array_range = np.arange(10, 50)\n",
        "print(array_range)"
      ],
      "metadata": {
        "colab": {
          "base_uri": "https://localhost:8080/"
        },
        "id": "XNyjsWL8_wBC",
        "outputId": "32c90949-1957-456a-bc82-92668bc7e5e6"
      },
      "execution_count": null,
      "outputs": [
        {
          "output_type": "stream",
          "name": "stdout",
          "text": [
            "[10 11 12 13 14 15 16 17 18 19 20 21 22 23 24 25 26 27 28 29 30 31 32 33\n",
            " 34 35 36 37 38 39 40 41 42 43 44 45 46 47 48 49]\n"
          ]
        }
      ]
    },
    {
      "cell_type": "code",
      "source": [
        "matrix_3x3 = np.arange(9).reshape(3, 3)\n",
        "print(matrix_3x3)"
      ],
      "metadata": {
        "colab": {
          "base_uri": "https://localhost:8080/"
        },
        "id": "YpBdGLHM_1Eq",
        "outputId": "af2f7990-bffb-44ad-946f-b0668863d6c1"
      },
      "execution_count": null,
      "outputs": [
        {
          "output_type": "stream",
          "name": "stdout",
          "text": [
            "[[0 1 2]\n",
            " [3 4 5]\n",
            " [6 7 8]]\n"
          ]
        }
      ]
    },
    {
      "cell_type": "code",
      "source": [
        "identity_matrix = np.eye(3)\n",
        "print(identity_matrix)"
      ],
      "metadata": {
        "colab": {
          "base_uri": "https://localhost:8080/"
        },
        "id": "px8a3ilj_5iC",
        "outputId": "3640f66f-9f02-4bbf-a764-727910d7597f"
      },
      "execution_count": null,
      "outputs": [
        {
          "output_type": "stream",
          "name": "stdout",
          "text": [
            "[[1. 0. 0.]\n",
            " [0. 1. 0.]\n",
            " [0. 0. 1.]]\n"
          ]
        }
      ]
    },
    {
      "cell_type": "code",
      "source": [
        "random_array = np.random.random(30)\n",
        "mean_value = random_array.mean()\n",
        "print(\"Random Array:\", random_array)\n",
        "print(\"Mean:\", mean_value)"
      ],
      "metadata": {
        "colab": {
          "base_uri": "https://localhost:8080/"
        },
        "id": "AMsZ8aPw_533",
        "outputId": "a8f1c216-8b35-4f8b-b1a7-cc9962f97cbb"
      },
      "execution_count": null,
      "outputs": [
        {
          "output_type": "stream",
          "name": "stdout",
          "text": [
            "Random Array: [0.92228374 0.30037464 0.72884108 0.89685087 0.21113221 0.31778902\n",
            " 0.9154547  0.38401121 0.21034557 0.79943441 0.79009418 0.05582507\n",
            " 0.86861843 0.34948537 0.70749632 0.75548525 0.446786   0.72252335\n",
            " 0.15569502 0.61511634 0.44625683 0.40615865 0.49210728 0.32482864\n",
            " 0.48014771 0.59644633 0.64232936 0.91124811 0.16887979 0.09718664]\n",
            "Mean: 0.5239744043498044\n"
          ]
        }
      ]
    },
    {
      "cell_type": "code",
      "source": [
        "random_matrix = np.random.random((10, 10))\n",
        "min_value = random_matrix.min()\n",
        "max_value = random_matrix.max()\n",
        "print(\"Minimum:\", min_value)\n",
        "print(\"Maximum:\", max_value)"
      ],
      "metadata": {
        "colab": {
          "base_uri": "https://localhost:8080/"
        },
        "id": "aSM1dos5_6LN",
        "outputId": "263463d7-5661-4b4a-e13a-09f0ead7ef06"
      },
      "execution_count": null,
      "outputs": [
        {
          "output_type": "stream",
          "name": "stdout",
          "text": [
            "Minimum: 0.0066737455704436455\n",
            "Maximum: 0.9948319474321237\n"
          ]
        }
      ]
    },
    {
      "cell_type": "code",
      "source": [
        "zero_array = np.zeros(10)\n",
        "zero_array[4] = 1  # 5th element (index 4) set to 1\n",
        "print(zero_array)"
      ],
      "metadata": {
        "colab": {
          "base_uri": "https://localhost:8080/"
        },
        "id": "-g4ZodWuAF8H",
        "outputId": "0e69c2d9-7477-4490-e692-511c8a9f9903"
      },
      "execution_count": null,
      "outputs": [
        {
          "output_type": "stream",
          "name": "stdout",
          "text": [
            "[0. 0. 0. 0. 1. 0. 0. 0. 0. 0.]\n"
          ]
        }
      ]
    },
    {
      "cell_type": "code",
      "source": [
        "arr = np.array([1, 2, 0, 0, 4, 0])\n",
        "reversed_arr = arr[::-1]\n",
        "print(reversed_arr)"
      ],
      "metadata": {
        "colab": {
          "base_uri": "https://localhost:8080/"
        },
        "id": "RSDCYvduAGyU",
        "outputId": "7fac83cf-73ee-4b49-c2f7-dd2cd062e6dd"
      },
      "execution_count": null,
      "outputs": [
        {
          "output_type": "stream",
          "name": "stdout",
          "text": [
            "[0 4 0 0 2 1]\n"
          ]
        }
      ]
    },
    {
      "cell_type": "code",
      "source": [
        "border_array = np.ones((5, 5))\n",
        "border_array[1:-1, 1:-1] = 0\n",
        "print(border_array)"
      ],
      "metadata": {
        "colab": {
          "base_uri": "https://localhost:8080/"
        },
        "id": "6v_tq0p8AKLS",
        "outputId": "1305d225-9fe8-453d-ef04-f8f81daeb18b"
      },
      "execution_count": null,
      "outputs": [
        {
          "output_type": "stream",
          "name": "stdout",
          "text": [
            "[[1. 1. 1. 1. 1.]\n",
            " [1. 0. 0. 0. 1.]\n",
            " [1. 0. 0. 0. 1.]\n",
            " [1. 0. 0. 0. 1.]\n",
            " [1. 1. 1. 1. 1.]]\n"
          ]
        }
      ]
    },
    {
      "cell_type": "code",
      "source": [
        "checkerboard = np.zeros((8, 8), dtype=int)\n",
        "checkerboard[1::2, ::2] = 1\n",
        "checkerboard[::2, 1::2] = 1\n",
        "print(checkerboard)"
      ],
      "metadata": {
        "colab": {
          "base_uri": "https://localhost:8080/"
        },
        "id": "ZvuckZFSAO8e",
        "outputId": "24ccb382-c72e-46ab-d77d-b2b76df305ce"
      },
      "execution_count": null,
      "outputs": [
        {
          "output_type": "stream",
          "name": "stdout",
          "text": [
            "[[0 1 0 1 0 1 0 1]\n",
            " [1 0 1 0 1 0 1 0]\n",
            " [0 1 0 1 0 1 0 1]\n",
            " [1 0 1 0 1 0 1 0]\n",
            " [0 1 0 1 0 1 0 1]\n",
            " [1 0 1 0 1 0 1 0]\n",
            " [0 1 0 1 0 1 0 1]\n",
            " [1 0 1 0 1 0 1 0]]\n"
          ]
        }
      ]
    },
    {
      "cell_type": "markdown",
      "source": [
        "Problem - 3: Array Operations:\n",
        "For the following arrays:\n",
        "x = np.array([[1,2],[3,5]]) and y = np.array([[5,6],[7,8]]);\n",
        "v = np.array([9,10]) and w = np.array([11,12]); Complete all the task using numpy:\n",
        "1.\tAdd the two array.\n",
        "2.\tSubtract the two array.\n",
        "3.\tMultiply the array with any integers of your choice.\n",
        "4.\tFind the square of each element of the array.\n",
        "5.\tFind the dot product between: v(and)w ; x(and)v ; x(and)y.\n",
        "6.\tConcatenate x(and)y along row and Concatenate v(and)w along column. {Hint:try np.concatenate() or np.vstack() functions.\n",
        "7.\tConcatenate x(and)v; if you get an error, observe and explain why did you get the error?"
      ],
      "metadata": {
        "id": "s-uYPFx6AYfp"
      }
    },
    {
      "cell_type": "code",
      "source": [
        "import numpy as np\n",
        "\n",
        "# Given arrays\n",
        "x = np.array([[1, 2], [3, 5]])\n",
        "y = np.array([[5, 6], [7, 8]])\n",
        "v = np.array([9, 10])\n",
        "w = np.array([11, 12])"
      ],
      "metadata": {
        "id": "ZOtTtVXSAjp4"
      },
      "execution_count": null,
      "outputs": []
    },
    {
      "cell_type": "code",
      "source": [
        "sum_xy = x + y\n",
        "print(sum_xy)"
      ],
      "metadata": {
        "colab": {
          "base_uri": "https://localhost:8080/"
        },
        "id": "8PcdlLxuAnDY",
        "outputId": "debe8fa4-0830-4113-941b-02498b225ba5"
      },
      "execution_count": null,
      "outputs": [
        {
          "output_type": "stream",
          "name": "stdout",
          "text": [
            "[[ 6  8]\n",
            " [10 13]]\n"
          ]
        }
      ]
    },
    {
      "cell_type": "code",
      "source": [
        "diff_xy = x - y\n",
        "print(diff_xy)"
      ],
      "metadata": {
        "colab": {
          "base_uri": "https://localhost:8080/"
        },
        "id": "wQm8OmBjAnSg",
        "outputId": "2fe10938-d7af-4906-d1e0-9a2de4ca9bbc"
      },
      "execution_count": null,
      "outputs": [
        {
          "output_type": "stream",
          "name": "stdout",
          "text": [
            "[[-4 -4]\n",
            " [-4 -3]]\n"
          ]
        }
      ]
    },
    {
      "cell_type": "code",
      "source": [
        "mult_x = x * 3\n",
        "print(mult_x)"
      ],
      "metadata": {
        "colab": {
          "base_uri": "https://localhost:8080/"
        },
        "id": "4Mp7dnXJAnpy",
        "outputId": "837e6b8d-275d-4bbd-9d6e-b8c96a98c8ab"
      },
      "execution_count": null,
      "outputs": [
        {
          "output_type": "stream",
          "name": "stdout",
          "text": [
            "[[ 3  6]\n",
            " [ 9 15]]\n"
          ]
        }
      ]
    },
    {
      "cell_type": "code",
      "source": [
        "square_x = x ** 2\n",
        "print(square_x)"
      ],
      "metadata": {
        "colab": {
          "base_uri": "https://localhost:8080/"
        },
        "id": "qfyoKXRtAn6c",
        "outputId": "a0e3958f-83a7-4f54-d212-31f1cdded5e4"
      },
      "execution_count": null,
      "outputs": [
        {
          "output_type": "stream",
          "name": "stdout",
          "text": [
            "[[ 1  4]\n",
            " [ 9 25]]\n"
          ]
        }
      ]
    },
    {
      "cell_type": "code",
      "source": [
        "# Dot product of v and w\n",
        "dot_vw = np.dot(v, w)\n",
        "print(\"Dot Product of v and w:\", dot_vw)\n",
        "\n",
        "# Dot product of x and v\n",
        "dot_xv = np.dot(x, v)\n",
        "print(\"Dot Product of x and v:\", dot_xv)\n",
        "\n",
        "# Dot product of x and y\n",
        "dot_xy = np.dot(x, y)\n",
        "print(\"Dot Product of x and y:\\n\", dot_xy)"
      ],
      "metadata": {
        "colab": {
          "base_uri": "https://localhost:8080/"
        },
        "id": "sYUo1dBfAoab",
        "outputId": "8a26d515-2342-4ce6-be74-d7153a06fd5c"
      },
      "execution_count": null,
      "outputs": [
        {
          "output_type": "stream",
          "name": "stdout",
          "text": [
            "Dot Product of v and w: 219\n",
            "Dot Product of x and v: [29 77]\n",
            "Dot Product of x and y:\n",
            " [[19 22]\n",
            " [50 58]]\n"
          ]
        }
      ]
    },
    {
      "cell_type": "code",
      "source": [
        "concat_xy = np.concatenate((x, y), axis=0)\n",
        "print(\"Concatenated x and y along rows:\\n\", concat_xy)\n",
        "\n",
        "concat_vw = np.vstack((v, w))\n",
        "print(\"Concatenated v and w along columns:\\n\", concat_vw)"
      ],
      "metadata": {
        "colab": {
          "base_uri": "https://localhost:8080/"
        },
        "id": "CqQGLB1nA2MG",
        "outputId": "5b3c2df1-e009-4ef2-d076-f571881ed48a"
      },
      "execution_count": null,
      "outputs": [
        {
          "output_type": "stream",
          "name": "stdout",
          "text": [
            "Concatenated x and y along rows:\n",
            " [[1 2]\n",
            " [3 5]\n",
            " [5 6]\n",
            " [7 8]]\n",
            "Concatenated v and w along columns:\n",
            " [[ 9 10]\n",
            " [11 12]]\n"
          ]
        }
      ]
    },
    {
      "cell_type": "code",
      "source": [
        "try:\n",
        "    concat_xv = np.concatenate((x, v), axis=0)\n",
        "    print(concat_xv)\n",
        "except ValueError as e:\n",
        "    print(\"Error:\", e)"
      ],
      "metadata": {
        "colab": {
          "base_uri": "https://localhost:8080/"
        },
        "id": "20QGEtQoA23Y",
        "outputId": "ff7df61c-8c37-4bee-c27f-3d9f9c98a16b"
      },
      "execution_count": null,
      "outputs": [
        {
          "output_type": "stream",
          "name": "stdout",
          "text": [
            "Error: all the input arrays must have same number of dimensions, but the array at index 0 has 2 dimension(s) and the array at index 1 has 1 dimension(s)\n"
          ]
        }
      ]
    },
    {
      "cell_type": "code",
      "source": [
        "v_reshaped = v.reshape(1, -1)  # Convert v to 2D row vector\n",
        "concat_xv_fixed = np.concatenate((x, v_reshaped), axis=0)\n",
        "print(concat_xv_fixed)"
      ],
      "metadata": {
        "colab": {
          "base_uri": "https://localhost:8080/"
        },
        "id": "phFdh3IfA_qp",
        "outputId": "7d16ef53-acbf-48ea-d688-91ce6295bf79"
      },
      "execution_count": null,
      "outputs": [
        {
          "output_type": "stream",
          "name": "stdout",
          "text": [
            "[[ 1  2]\n",
            " [ 3  5]\n",
            " [ 9 10]]\n"
          ]
        }
      ]
    },
    {
      "cell_type": "markdown",
      "source": [
        "Problem - 4: Matrix Operations: • For the following arrays:\n",
        "A = np.array([[3,4],[7,8]]) and B = np.array([[5,3],[2,1]]); Prove following with Numpy:\n",
        "1.\tProve A.A−1 = I.\n",
        "2.\tProve AB ̸= BA.\n",
        "3.\tProve (AB)T = BTAT.\n",
        "•\tSolve the following system of Linear equation using Inverse Methods.\n",
        "2x − 3y + z = −1 x − y + 2z = −3 3x + y − z = 9\n",
        "{Hint: First use Numpy array to represent the equation in Matrix form. Then Solve for: AX = B}\n",
        "•\tNow: solve the above equation using np.linalg.inv function.{Explore more about ”linalg” function of Numpy}"
      ],
      "metadata": {
        "id": "IB39I88TBFC6"
      }
    },
    {
      "cell_type": "code",
      "source": [
        "import numpy as np"
      ],
      "metadata": {
        "id": "D6boVoOsBABB"
      },
      "execution_count": null,
      "outputs": []
    },
    {
      "cell_type": "code",
      "source": [
        "# Given matrix\n",
        "A = np.array([[3, 4], [7, 8]])\n",
        "\n",
        "# Compute inverse of A\n",
        "A_inv = np.linalg.inv(A)\n",
        "\n",
        "# Compute A * A_inv\n",
        "result = np.dot(A, A_inv)\n",
        "\n",
        "# Round the result to avoid floating-point errors\n",
        "result = np.round(result, decimals=5)\n",
        "\n",
        "print(\"A * A⁻¹ =\\n\", result)"
      ],
      "metadata": {
        "colab": {
          "base_uri": "https://localhost:8080/"
        },
        "id": "ej0rr9TbBOKr",
        "outputId": "8ebde24a-c9de-452d-d748-80b0119c03f4"
      },
      "execution_count": null,
      "outputs": [
        {
          "output_type": "stream",
          "name": "stdout",
          "text": [
            "A * A⁻¹ =\n",
            " [[1. 0.]\n",
            " [0. 1.]]\n"
          ]
        }
      ]
    },
    {
      "cell_type": "code",
      "source": [
        "# Given matrices\n",
        "B = np.array([[5, 3], [2, 1]])\n",
        "\n",
        "# Compute AB and BA\n",
        "AB = np.dot(A, B)\n",
        "BA = np.dot(B, A)\n",
        "\n",
        "print(\"AB =\\n\", AB)\n",
        "print(\"BA =\\n\", BA)\n",
        "\n",
        "# Check if AB == BA\n",
        "are_equal = np.array_equal(AB, BA)\n",
        "print(\"Is AB equal to BA?\", are_equal)"
      ],
      "metadata": {
        "colab": {
          "base_uri": "https://localhost:8080/"
        },
        "id": "hAoSM85kBOqT",
        "outputId": "ea497402-2a01-43e4-9b7c-dbe8e3a697c7"
      },
      "execution_count": null,
      "outputs": [
        {
          "output_type": "stream",
          "name": "stdout",
          "text": [
            "AB =\n",
            " [[23 13]\n",
            " [51 29]]\n",
            "BA =\n",
            " [[36 44]\n",
            " [13 16]]\n",
            "Is AB equal to BA? False\n"
          ]
        }
      ]
    },
    {
      "cell_type": "code",
      "source": [
        "# Compute (AB)^T\n",
        "AB_T = np.transpose(AB)\n",
        "\n",
        "# Compute B^T and A^T separately\n",
        "B_T = np.transpose(B)\n",
        "A_T = np.transpose(A)\n",
        "\n",
        "# Compute B^T * A^T\n",
        "BT_AT = np.dot(B_T, A_T)\n",
        "\n",
        "# Compare (AB)^T with B^T A^T\n",
        "is_equal = np.array_equal(AB_T, BT_AT)\n",
        "\n",
        "print(\"(AB)^T =\\n\", AB_T)\n",
        "print(\"B^T A^T =\\n\", BT_AT)\n",
        "print(\"Is (AB)^T equal to B^T A^T?\", is_equal)"
      ],
      "metadata": {
        "colab": {
          "base_uri": "https://localhost:8080/"
        },
        "id": "Zp9twGgnBPAS",
        "outputId": "4acd72c0-af7c-4874-a771-cac7e81bc75f"
      },
      "execution_count": null,
      "outputs": [
        {
          "output_type": "stream",
          "name": "stdout",
          "text": [
            "(AB)^T =\n",
            " [[23 51]\n",
            " [13 29]]\n",
            "B^T A^T =\n",
            " [[23 51]\n",
            " [13 29]]\n",
            "Is (AB)^T equal to B^T A^T? True\n"
          ]
        }
      ]
    },
    {
      "cell_type": "code",
      "source": [
        "# Coefficient matrix A\n",
        "A = np.array([\n",
        "    [2, -3, 1],\n",
        "    [1, -1, 2],\n",
        "    [3, 1, -1]\n",
        "])\n",
        "\n",
        "# Constants matrix B\n",
        "B = np.array([-1, -3, 9])\n"
      ],
      "metadata": {
        "id": "oDhGezEWBPV-"
      },
      "execution_count": null,
      "outputs": []
    },
    {
      "cell_type": "code",
      "source": [
        "# Compute inverse of A\n",
        "A_inv = np.linalg.inv(A)\n",
        "\n",
        "# Solve for X\n",
        "X = np.dot(A_inv, B)\n",
        "\n",
        "print(\"Solution for [x, y, z]:\", X)"
      ],
      "metadata": {
        "colab": {
          "base_uri": "https://localhost:8080/"
        },
        "id": "gWemuxs0BPoT",
        "outputId": "403df50e-5c5a-4768-df61-1151ed0f885c"
      },
      "execution_count": null,
      "outputs": [
        {
          "output_type": "stream",
          "name": "stdout",
          "text": [
            "Solution for [x, y, z]: [ 2.  1. -2.]\n"
          ]
        }
      ]
    },
    {
      "cell_type": "code",
      "source": [
        "X_solve = np.linalg.solve(A, B)\n",
        "print(\"Solution using np.linalg.solve:\", X_solve)"
      ],
      "metadata": {
        "colab": {
          "base_uri": "https://localhost:8080/"
        },
        "id": "eVRQv2LrBQAW",
        "outputId": "68cb042d-acb8-4043-ad42-8db1591f7080"
      },
      "execution_count": null,
      "outputs": [
        {
          "output_type": "stream",
          "name": "stdout",
          "text": [
            "Solution using np.linalg.solve: [ 2.  1. -2.]\n"
          ]
        }
      ]
    },
    {
      "cell_type": "markdown",
      "source": [
        "10.2\tExperiment: How Fast is Numpy?\n",
        "In this exercise, you will compare the performance and implementation of operations using plain Python lists (arrays) and NumPy arrays. Follow the instructions:\n",
        "1. Element-wise Addition:\n",
        "•\tUsing Python Lists, perform element-wise addition of two lists of size 1,000,000. Measure and Print the time taken for this operation.\n",
        "•\tUsing Numpy Arrays, Repeat the calculation and measure and print the time taken for this operation.\n",
        "2. Element-wise Multiplication\n",
        "•\tUsing Python Lists, perform element-wise multiplication of two lists of size 1,000,000. Measure and Print the time taken for this operation.\n",
        "•\tUsing Numpy Arrays, Repeat the calculation and measure and print the time taken for this operation.\n",
        "3. Dot Product\n",
        "•\tUsing Python Lists, compute the dot product of two lists of size 1,000,000. Measure and Print the time taken for this operation.\n",
        "•\tUsing Numpy Arrays, Repeat the calculation and measure and print the time taken for this operation.\n",
        "4. Matrix Multiplication\n",
        "•\tUsing Python lists, perform matrix multiplication of two matrices of size 1000x1000. Measure and print the time taken for this operation.\n",
        "•\tUsing NumPy arrays, perform matrix multiplication of two matrices of size 1000x1000. Measure and print the time taken for this operation."
      ],
      "metadata": {
        "id": "Ue_wsc7iBnTo"
      }
    },
    {
      "cell_type": "code",
      "source": [
        "import numpy as np\n",
        "import time"
      ],
      "metadata": {
        "id": "C2VXdGE1BhIr"
      },
      "execution_count": null,
      "outputs": []
    },
    {
      "cell_type": "code",
      "source": [
        "size = 1_000_000  # 1 million elements\n",
        "list1 = list(range(size))\n",
        "list2 = list(range(size))\n",
        "\n",
        "start_time = time.time()\n",
        "result_list = [list1[i] + list2[i] for i in range(size)]\n",
        "end_time = time.time()\n",
        "\n",
        "print(\"Time taken for element-wise addition using Python lists:\", end_time - start_time, \"seconds\")"
      ],
      "metadata": {
        "colab": {
          "base_uri": "https://localhost:8080/"
        },
        "id": "WMTEnk8QBpCf",
        "outputId": "cbfa1815-5654-4742-a3a3-ac01fa7a52d1"
      },
      "execution_count": null,
      "outputs": [
        {
          "output_type": "stream",
          "name": "stdout",
          "text": [
            "Time taken for element-wise addition using Python lists: 0.16833043098449707 seconds\n"
          ]
        }
      ]
    },
    {
      "cell_type": "code",
      "source": [
        "array1 = np.arange(size)\n",
        "array2 = np.arange(size)\n",
        "\n",
        "start_time = time.time()\n",
        "result_array = array1 + array2\n",
        "end_time = time.time()\n",
        "\n",
        "print(\"Time taken for element-wise addition using NumPy:\", end_time - start_time, \"seconds\")"
      ],
      "metadata": {
        "colab": {
          "base_uri": "https://localhost:8080/"
        },
        "id": "kIQA3r4oBpj2",
        "outputId": "fd2bb500-4ab0-40ec-de9d-9c87e9ad256a"
      },
      "execution_count": null,
      "outputs": [
        {
          "output_type": "stream",
          "name": "stdout",
          "text": [
            "Time taken for element-wise addition using NumPy: 0.006703615188598633 seconds\n"
          ]
        }
      ]
    },
    {
      "cell_type": "code",
      "source": [
        "start_time = time.time()\n",
        "result_list = [list1[i] * list2[i] for i in range(size)]\n",
        "end_time = time.time()\n",
        "\n",
        "print(\"Time taken for element-wise multiplication using Python lists:\", end_time - start_time, \"seconds\")"
      ],
      "metadata": {
        "colab": {
          "base_uri": "https://localhost:8080/"
        },
        "id": "Q9iodKs9Bp45",
        "outputId": "000dfd9d-c00c-402b-b285-80fa8786d70f"
      },
      "execution_count": null,
      "outputs": [
        {
          "output_type": "stream",
          "name": "stdout",
          "text": [
            "Time taken for element-wise multiplication using Python lists: 0.1654045581817627 seconds\n"
          ]
        }
      ]
    },
    {
      "cell_type": "code",
      "source": [
        "start_time = time.time()\n",
        "result_array = array1 * array2\n",
        "end_time = time.time()\n",
        "\n",
        "print(\"Time taken for element-wise multiplication using NumPy:\", end_time - start_time, \"seconds\")"
      ],
      "metadata": {
        "colab": {
          "base_uri": "https://localhost:8080/"
        },
        "id": "RP130MLJBqWA",
        "outputId": "34d66508-0796-437a-efc9-b4b3e8b91f63"
      },
      "execution_count": null,
      "outputs": [
        {
          "output_type": "stream",
          "name": "stdout",
          "text": [
            "Time taken for element-wise multiplication using NumPy: 0.002660989761352539 seconds\n"
          ]
        }
      ]
    },
    {
      "cell_type": "code",
      "source": [
        "start_time = time.time()\n",
        "dot_product_list = sum(list1[i] * list2[i] for i in range(size))\n",
        "end_time = time.time()\n",
        "\n",
        "print(\"Time taken for dot product using Python lists:\", end_time - start_time, \"seconds\")"
      ],
      "metadata": {
        "colab": {
          "base_uri": "https://localhost:8080/"
        },
        "id": "47c9-xiuBqtT",
        "outputId": "c5ad7a83-50aa-4b86-fc42-261e0f1d53f1"
      },
      "execution_count": null,
      "outputs": [
        {
          "output_type": "stream",
          "name": "stdout",
          "text": [
            "Time taken for dot product using Python lists: 0.058106184005737305 seconds\n"
          ]
        }
      ]
    },
    {
      "cell_type": "code",
      "source": [
        "start_time = time.time()\n",
        "dot_product_array = np.dot(array1, array2)\n",
        "end_time = time.time()\n",
        "\n",
        "print(\"Time taken for dot product using NumPy:\", end_time - start_time, \"seconds\")"
      ],
      "metadata": {
        "colab": {
          "base_uri": "https://localhost:8080/"
        },
        "id": "jqFoKbn5B9Cs",
        "outputId": "dbd576ed-198d-458e-d9b4-a0946b31cf1c"
      },
      "execution_count": null,
      "outputs": [
        {
          "output_type": "stream",
          "name": "stdout",
          "text": [
            "Time taken for dot product using NumPy: 0.0010268688201904297 seconds\n"
          ]
        }
      ]
    },
    {
      "cell_type": "code",
      "source": [
        "size_matrix = 1000  # 1000x1000 matrix\n",
        "matrix1 = [[i for i in range(size_matrix)] for _ in range(size_matrix)]\n",
        "matrix2 = [[i for i in range(size_matrix)] for _ in range(size_matrix)]\n",
        "\n",
        "start_time = time.time()\n",
        "result_matrix = [[sum(matrix1[i][k] * matrix2[k][j] for k in range(size_matrix)) for j in range(size_matrix)] for i in range(size_matrix)]\n",
        "end_time = time.time()\n",
        "\n",
        "print(\"Time taken for matrix multiplication using Python lists:\", end_time - start_time, \"seconds\")"
      ],
      "metadata": {
        "colab": {
          "base_uri": "https://localhost:8080/"
        },
        "id": "8V0ylpnRCE4b",
        "outputId": "683ac342-827e-41a6-b4ae-84de01562616"
      },
      "execution_count": null,
      "outputs": [
        {
          "output_type": "stream",
          "name": "stdout",
          "text": [
            "Time taken for matrix multiplication using Python lists: 129.82972240447998 seconds\n"
          ]
        }
      ]
    },
    {
      "cell_type": "code",
      "source": [
        "matrix1_np = np.arange(size_matrix**2).reshape(size_matrix, size_matrix)\n",
        "matrix2_np = np.arange(size_matrix**2).reshape(size_matrix, size_matrix)\n",
        "\n",
        "start_time = time.time()\n",
        "result_matrix_np = np.dot(matrix1_np, matrix2_np)\n",
        "end_time = time.time()\n",
        "\n",
        "print(\"Time taken for matrix multiplication using NumPy:\", end_time - start_time, \"seconds\")"
      ],
      "metadata": {
        "colab": {
          "base_uri": "https://localhost:8080/"
        },
        "id": "oF3chth8CGaa",
        "outputId": "c195ff07-d16c-4936-86d4-40f6897f832f"
      },
      "execution_count": null,
      "outputs": [
        {
          "output_type": "stream",
          "name": "stdout",
          "text": [
            "Time taken for matrix multiplication using NumPy: 0.9411542415618896 seconds\n"
          ]
        }
      ]
    }
  ]
}